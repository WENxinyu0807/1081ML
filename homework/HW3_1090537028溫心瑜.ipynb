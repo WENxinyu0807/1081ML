{
 "cells": [
  {
   "cell_type": "markdown",
   "metadata": {},
   "source": [
    "第一題"
   ]
  },
  {
   "cell_type": "code",
   "execution_count": 1,
   "metadata": {},
   "outputs": [
    {
     "name": "stdout",
     "output_type": "stream",
     "text": [
      "請輸入其體重(公斤)及身高(公分)(W,H):52,165\n",
      "\n",
      "正常範圍 \n"
     ]
    }
   ],
   "source": [
    "W,H=eval(input(\"請輸入其體重(公斤)及身高(公分)(W,H):\"))\n",
    "BMI=W/((H/100)*(H/100))\n",
    "if BMI < 18.5:\n",
    "    print(\"\\n體重過輕 \")\n",
    "if 18.5 <= BMI and BMI < 24 :\n",
    "    print(\"\\n正常範圍 \")\n",
    "if 24 <= BMI and BMI < 27:\n",
    "    print(\"\\n體重過重 \")\n",
    "if 30 <= BMI and BMI < 35:\n",
    "    print(\"\\n中度肥胖 \")\n",
    "if BMI >=  35:\n",
    "    print(\"\\n重度肥胖 \")"
   ]
  },
  {
   "cell_type": "markdown",
   "metadata": {},
   "source": [
    "第二題"
   ]
  },
  {
   "cell_type": "code",
   "execution_count": null,
   "metadata": {},
   "outputs": [],
   "source": [
    "Y=eval(input(\"請輸入西元年，程式判斷是否為閏年:\"))\n",
    "if Y%400==0 or (Y%4==0 and Y%100!=0):\n",
    "    print(\"\\n這是閏年\") \n",
    "else:\n",
    "    print(\"\\n這不是閏年\")\n"
   ]
  },
  {
   "cell_type": "markdown",
   "metadata": {},
   "source": [
    "第三題"
   ]
  },
  {
   "cell_type": "code",
   "execution_count": null,
   "metadata": {},
   "outputs": [],
   "source": [
    "date = input(\"請輸入日期，格式為 mm/dd/yyyy(月,日,年):\")\n",
    "M, D, Y = date.split(\"/\")\n",
    "M = int(M)\n",
    "D = int(D)\n",
    "Y = int(Y)\n",
    "if M==1 and D<=31:\n",
    "    print(\"\\n日期正確\")\n",
    "elif M==2 and D<29:\n",
    "    print(\"\\n日期正確\")\n",
    "elif M==2 and D==29 and (Y%400==0 or(Y%4==0 and Y%100!=0)):\n",
    "    print(\"\\n日期正確\")\n",
    "elif M==3 and D<=31:\n",
    "    print(\"\\n日期正確\")\n",
    "elif M==4 and D<=30:\n",
    "    print(\"\\n日期正確\")\n",
    "elif M==5 and D<=31:\n",
    "    print(\"\\n日期正確\")\n",
    "elif M==6 and D<=30:\n",
    "    print(\"\\n日期正確\")\n",
    "elif M==7 and D<=31:\n",
    "    print(\"\\n日期正確\")\n",
    "elif M==8 and D<=31:\n",
    "    print(\"\\n日期正確\")\n",
    "elif M==9 and D<=30:\n",
    "    print(\"\\n日期正確\")\n",
    "elif M==10 and D<=31:\n",
    "    print(\"\\n日期正確\")\n",
    "elif M==11 and D<=30:\n",
    "    print(\"\\n日期正確\")\n",
    "elif M==12 and D<=31:\n",
    "    print(\"\\n日期正確\")    \n",
    "else:\n",
    "    print(\"\\n日期不正確\")"
   ]
  },
  {
   "cell_type": "markdown",
   "metadata": {},
   "source": [
    "第四題"
   ]
  },
  {
   "cell_type": "code",
   "execution_count": null,
   "metadata": {},
   "outputs": [],
   "source": [
    "import math\n",
    "a = 0\n",
    "n = input(\"請輸入n:\")\n",
    "n = int(n)\n",
    "q = math.sqrt(n)\n",
    "q = int(q+1)\n",
    "for i in range(2, q):\n",
    "    if(n%i==0):\n",
    "        a+=1\n",
    "        \n",
    "if a==0:\n",
    "    print(\"\\n這是質數\")\n",
    "else:\n",
    "    print(\"\\n這不是質數\")"
   ]
  },
  {
   "cell_type": "markdown",
   "metadata": {},
   "source": [
    "第五題"
   ]
  },
  {
   "cell_type": "code",
   "execution_count": null,
   "metadata": {},
   "outputs": [],
   "source": [
    "import math\n",
    "result=[]\n",
    "b = 0\n",
    "n = input(\"請輸入n:\")\n",
    "n = int(n)\n",
    "for i in range(1,n+1):\n",
    "    a = 0\n",
    "    q = math.sqrt(i)\n",
    "    q = int(q+1)\n",
    "    for j in range(2, q):  \n",
    "        if(i%j==0):\n",
    "            a=1\n",
    "            break\n",
    "    if a==0 and i!=1:\n",
    "        result.insert(b,i)\n",
    "        b+=1\n",
    "print(result)"
   ]
  }
 ],
 "metadata": {
  "kernelspec": {
   "display_name": "Python 3",
   "language": "python",
   "name": "python3"
  },
  "language_info": {
   "codemirror_mode": {
    "name": "ipython",
    "version": 3
   },
   "file_extension": ".py",
   "mimetype": "text/x-python",
   "name": "python",
   "nbconvert_exporter": "python",
   "pygments_lexer": "ipython3",
   "version": "3.7.3"
  }
 },
 "nbformat": 4,
 "nbformat_minor": 2
}
